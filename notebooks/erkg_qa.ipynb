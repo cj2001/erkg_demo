{
 "cells": [
  {
   "cell_type": "code",
   "execution_count": 9,
   "id": "4e60c7d0-2a86-42a3-8ac4-9d75fe2c12c4",
   "metadata": {},
   "outputs": [],
   "source": [
    "import json\n",
    "from neo4j import GraphDatabase\n",
    "import numpy as np\n",
    "import os\n",
    "import pandas as pd\n",
    "from pprint import pprint\n",
    "import time\n",
    "from tqdm import tqdm\n",
    "\n",
    "from langchain_openai import ChatOpenAI\n",
    "from langchain_community.graphs import Neo4jGraph\n",
    "from langchain.chains import GraphCypherQAChain\n",
    "\n",
    "pd.set_option('display.max_columns', None)\n",
    "pd.set_option('display.max_rows', 1000)"
   ]
  },
  {
   "cell_type": "markdown",
   "id": "450de4c3-87ee-46a7-80c6-227af78b764f",
   "metadata": {},
   "source": [
    "## Introduction\n",
    "\n",
    "In order to run this notebook you need to have the full tabular data set along with the Senzing entity-resolved data set loaded into Neo4j, which is achieved in the `load_json_data.ipynb` and `load_senzing_data.ipynb` notebooks.  We will then use LangChain to create a Cypher QA chain to ask questions of this graph, much like we did in `sql_qa.ipynb` with the tabular data."
   ]
  },
  {
   "cell_type": "code",
   "execution_count": 2,
   "id": "9019123d-bbb6-4e6e-800e-9f6d8c5f9ca6",
   "metadata": {},
   "outputs": [],
   "source": [
    "URI = \"bolt://localhost:7687\"\n",
    "USER = \"neo4j\"\n",
    "PWD = \" \"\n",
    "AUTH = (USER, PWD)\n",
    "\n",
    "os.environ[\"NEO4J_URI\"] = URI\n",
    "os.environ[\"NEO4J_USERNAME\"] = USER\n",
    "os.environ[\"NEO4J_PASSWORD\"] = PWD"
   ]
  },
  {
   "cell_type": "markdown",
   "id": "5dcd47cd-daec-49e6-b8d8-b3b0ed3244a1",
   "metadata": {},
   "source": [
    "### Connecting LangChain to Neo4j..."
   ]
  },
  {
   "cell_type": "code",
   "execution_count": 5,
   "id": "1cde9a8b-b47b-438b-84b1-b21c11b9d620",
   "metadata": {},
   "outputs": [],
   "source": [
    "graph = Neo4jGraph()"
   ]
  },
  {
   "cell_type": "code",
   "execution_count": 6,
   "id": "c63622dd-32e5-48b6-b7b8-8d388b758bc3",
   "metadata": {},
   "outputs": [
    {
     "data": {
      "text/plain": [
       "[{'COUNT(n)': 86374}]"
      ]
     },
     "execution_count": 6,
     "metadata": {},
     "output_type": "execute_result"
    }
   ],
   "source": [
    "graph.query(\"\"\"MATCH (n) RETURN COUNT(n)\"\"\")"
   ]
  },
  {
   "cell_type": "code",
   "execution_count": 7,
   "id": "f75b33ab-a9ba-4911-a4bb-73f90a8a04b4",
   "metadata": {},
   "outputs": [
    {
     "name": "stdout",
     "output_type": "stream",
     "text": [
      "Node properties:\n",
      "SGEntity {record_type: STRING, data_source: STRING, name: STRING, mailing_verified_status: STRING, category_tags: STRING, top_category: STRING, naics_code: STRING, brands: STRING, address: STRING, sub_category: STRING, uid: STRING, record_id: STRING}\n",
      "PPPEntity {date_approved: STRING, loan_range: STRING, data_source: STRING, business_type: STRING, jobs_reported: INTEGER, name: STRING, lender: STRING, naics_code: INTEGER, address: STRING, record_type: STRING, uid: STRING, record_id: INTEGER}\n",
      "DOLEntity {case_id: INTEGER, naics_code_description: STRING, legal_name_org: STRING, record_type: STRING, data_source: STRING, naics_code: INTEGER, address: STRING, name: STRING, case_violtn_cnt: INTEGER, uid: STRING, record_id: INTEGER}\n",
      "Entity {data_source: STRING, uid: STRING, name: STRING}\n",
      "Relationship properties:\n",
      "RELATED_TO {is_disclosed: INTEGER, is_ambiguous: INTEGER, match_level_code: STRING, match_level: INTEGER, match_key: STRING}\n",
      "The relationships:\n",
      "(:SGEntity)-[:RELATED_TO]->(:Entity)\n",
      "(:SGEntity)-[:RESOLVES]->(:PPPEntity)\n",
      "(:SGEntity)-[:RESOLVES]->(:DOLEntity)\n",
      "(:PPPEntity)-[:RELATED_TO]->(:Entity)\n",
      "(:PPPEntity)-[:RESOLVES]->(:PPPEntity)\n",
      "(:PPPEntity)-[:RESOLVES]->(:SGEntity)\n",
      "(:DOLEntity)-[:RESOLVES]->(:PPPEntity)\n",
      "(:DOLEntity)-[:RESOLVES]->(:SGEntity)\n",
      "(:DOLEntity)-[:RESOLVES]->(:DOLEntity)\n",
      "(:DOLEntity)-[:RELATED_TO]->(:Entity)\n",
      "(:Entity)-[:RESOLVES]->(:PPPEntity)\n",
      "(:Entity)-[:RESOLVES]->(:DOLEntity)\n",
      "(:Entity)-[:RESOLVES]->(:SGEntity)\n"
     ]
    }
   ],
   "source": [
    "graph.refresh_schema()\n",
    "print(graph.schema)"
   ]
  },
  {
   "cell_type": "markdown",
   "id": "f25ffbba-0e02-4c89-abed-abf54f81f3c9",
   "metadata": {},
   "source": [
    "## Creating a chain\n",
    "\n",
    "We use the LangChain package `GraphCypherQAChain` to convert questions into Cypher queries that are passed to the database for generating answers."
   ]
  },
  {
   "cell_type": "code",
   "execution_count": 10,
   "id": "7ead5a35-6a60-4c57-b2d6-aea3feadb326",
   "metadata": {},
   "outputs": [],
   "source": [
    "llm = ChatOpenAI(model=\"gpt-4o-2024-05-13\", temperature=0)\n",
    "\n",
    "chain = GraphCypherQAChain.from_llm(graph=graph, \n",
    "                                    llm=llm,\n",
    "                                    validate_cypher=True,\n",
    "                                    verbose=True)"
   ]
  },
  {
   "cell_type": "code",
   "execution_count": 12,
   "id": "74f0f65a-624e-4879-9eda-e93817c08a30",
   "metadata": {},
   "outputs": [
    {
     "name": "stdout",
     "output_type": "stream",
     "text": [
      "\n",
      "\n",
      "\u001b[1m> Entering new GraphCypherQAChain chain...\u001b[0m\n",
      "Generated Cypher:\n",
      "\u001b[32;1m\u001b[1;3mcypher\n",
      "MATCH (e:Entity {name: \"Mandalay Bay Resort & Casino\"})\n",
      "OPTIONAL MATCH (e)-[:RELATED_TO|RESOLVES*1..2]-(related)\n",
      "RETURN e, related\n",
      "\u001b[0m\n",
      "Full Context:\n",
      "\u001b[32;1m\u001b[1;3m[{'e': {'uid': 'SAFEGRAPH.222-22g@5yv-j8g-rff', 'name': 'Mandalay Bay Resort & Casino', 'data_source': 'SAFEGRAPH'}, 'related': {'naics_code_description': 'Casino Hotels', 'naics_code': 72112, 'uid': 'DOL_WHISARD.111491', 'record_id': 111491, 'case_violtn_cnt': 0, 'address': '3950 Las Vegas Blvd.  South Las Vegas NV 89117', 'case_id': 1444602, 'legal_name_org': 'Mandalay Bay Resort & Casino', 'name': 'Mandalay Bay', 'record_type': 'ORGANIZATION', 'data_source': 'DoL_WHISARD'}}, {'e': {'uid': 'SAFEGRAPH.222-22g@5yv-j8g-rff', 'name': 'Mandalay Bay Resort & Casino', 'data_source': 'SAFEGRAPH'}, 'related': {'naics_code': '7211', 'uid': 'SAFEGRAPH.222-22g@5yv-j8g-rff', 'record_id': '222-22g@5yv-j8g-rff', 'brands': '[]', 'address': '3960 Las Vegas Blvd S Las Vegas NV 89119-1046', 'sub_category': 'Not Provided', 'mailing_verified_status': 'VERIFIED_DELIVERY_POINT', 'name': 'Mandalay Bay Resort & Casino', 'category_tags': '[]', 'top_category': 'Traveler Accommodation', 'record_type': 'ORGANIZATION', 'data_source': 'SAFEGRAPH'}}, {'e': {'uid': 'SAFEGRAPH.222-22g@5yv-j8g-rff', 'name': 'Mandalay Bay Resort & Casino', 'data_source': 'SAFEGRAPH'}, 'related': {'uid': 'DOL_WHISARD.100940', 'name': 'Luxor Hotel and Casino', 'data_source': 'DOL_WHISARD'}}, {'e': {'uid': 'SAFEGRAPH.222-22g@5yv-j8g-rff', 'name': 'Mandalay Bay Resort & Casino', 'data_source': 'SAFEGRAPH'}, 'related': {'naics_code_description': 'Casinos (except Casino Hotels)', 'naics_code': 713210, 'uid': 'DOL_WHISARD.106157', 'record_id': 106157, 'case_violtn_cnt': 2, 'address': '3950 S. Las Vegas Blvd Las Vegas NV 89119', 'legal_name_org': 'Manadalay Corp,', 'case_id': 1682734, 'name': 'Mandalay Bay', 'record_type': 'ORGANIZATION', 'data_source': 'DoL_WHISARD'}}, {'e': {'uid': 'SAFEGRAPH.222-22g@5yv-j8g-rff', 'name': 'Mandalay Bay Resort & Casino', 'data_source': 'SAFEGRAPH'}, 'related': {'naics_code': '7211', 'uid': 'SAFEGRAPH.222-22g@5yv-j8g-rff', 'record_id': '222-22g@5yv-j8g-rff', 'brands': '[]', 'address': '3960 Las Vegas Blvd S Las Vegas NV 89119-1046', 'sub_category': 'Not Provided', 'mailing_verified_status': 'VERIFIED_DELIVERY_POINT', 'name': 'Mandalay Bay Resort & Casino', 'category_tags': '[]', 'top_category': 'Traveler Accommodation', 'record_type': 'ORGANIZATION', 'data_source': 'SAFEGRAPH'}}, {'e': {'uid': 'SAFEGRAPH.222-22g@5yv-j8g-rff', 'name': 'Mandalay Bay Resort & Casino', 'data_source': 'SAFEGRAPH'}, 'related': {'uid': 'DOL_WHISARD.100940', 'name': 'Luxor Hotel and Casino', 'data_source': 'DOL_WHISARD'}}, {'e': {'uid': 'SAFEGRAPH.222-22g@5yv-j8g-rff', 'name': 'Mandalay Bay Resort & Casino', 'data_source': 'SAFEGRAPH'}, 'related': {'naics_code_description': 'Casino Hotels', 'naics_code': 72112, 'uid': 'DOL_WHISARD.13848', 'record_id': 13848, 'case_violtn_cnt': 0, 'address': '3950 S. Las Vegas Blvd. Las Vegas NV 89119', 'legal_name_org': 'Mandalay Corporation', 'case_id': 1456594, 'name': 'Mandalay Bay Casino', 'data_source': 'DoL_WHISARD', 'record_type': 'ORGANIZATION'}}, {'e': {'uid': 'SAFEGRAPH.222-22g@5yv-j8g-rff', 'name': 'Mandalay Bay Resort & Casino', 'data_source': 'SAFEGRAPH'}, 'related': {'naics_code': '7211', 'uid': 'SAFEGRAPH.222-22g@5yv-j8g-rff', 'record_id': '222-22g@5yv-j8g-rff', 'brands': '[]', 'address': '3960 Las Vegas Blvd S Las Vegas NV 89119-1046', 'sub_category': 'Not Provided', 'mailing_verified_status': 'VERIFIED_DELIVERY_POINT', 'name': 'Mandalay Bay Resort & Casino', 'category_tags': '[]', 'top_category': 'Traveler Accommodation', 'record_type': 'ORGANIZATION', 'data_source': 'SAFEGRAPH'}}, {'e': {'uid': 'SAFEGRAPH.222-22g@5yv-j8g-rff', 'name': 'Mandalay Bay Resort & Casino', 'data_source': 'SAFEGRAPH'}, 'related': {'uid': 'DOL_WHISARD.100940', 'name': 'Luxor Hotel and Casino', 'data_source': 'DOL_WHISARD'}}, {'e': {'uid': 'SAFEGRAPH.222-22g@5yv-j8g-rff', 'name': 'Mandalay Bay Resort & Casino', 'data_source': 'SAFEGRAPH'}, 'related': {'naics_code_description': 'Casino Hotels', 'naics_code': 72112, 'uid': 'DOL_WHISARD.41728', 'record_id': 41728, 'address': '3950 Las Vegas Blvd South Las Vegas NV 89119', 'case_violtn_cnt': 1, 'legal_name_org': 'Mandalay Bay Resort & Casino', 'case_id': 1421610, 'name': 'Mandalay Bay Resort & Casino', 'record_type': 'ORGANIZATION', 'data_source': 'DoL_WHISARD'}}]\u001b[0m\n",
      "\n",
      "\u001b[1m> Finished chain.\u001b[0m\n"
     ]
    },
    {
     "data": {
      "text/plain": [
       "{'query': 'Tell me about Mandalay Bay Resort & Casino',\n",
       " 'result': 'Mandalay Bay Resort & Casino, located at 3950 Las Vegas Blvd. South, Las Vegas, NV 89117, is categorized under Casino Hotels with a NAICS code of 72112. It is also listed at 3960 Las Vegas Blvd S, Las Vegas, NV 89119-1046, and falls under the top category of Traveler Accommodation. The resort has had various records and addresses associated with it, including 3950 S. Las Vegas Blvd, Las Vegas, NV 89119, and 3950 Las Vegas Blvd South, Las Vegas, NV 89119. The legal names associated with it include Mandalay Bay Resort & Casino and Mandalay Corporation. The resort has had some case violations, with counts ranging from 0 to 2 in different records.'}"
      ]
     },
     "execution_count": 12,
     "metadata": {},
     "output_type": "execute_result"
    }
   ],
   "source": [
    "response = chain.invoke({\"query\": \"Tell me about Mandalay Bay Resort & Casino\"})\n",
    "response"
   ]
  },
  {
   "cell_type": "markdown",
   "id": "94044b73-4a68-41ee-939a-2134c6f10383",
   "metadata": {},
   "source": [
    "### That is great, but...\n",
    "\n",
    "...it still missed the fact that Mandalay Bay is owned by MGM Grand, which has the most violations.  However, it is nice to see that the chain was able to provide some meaningful information about the multiple addresses associated with Mandalay Bay.  We should notice that the generated Cypher statement assumed that we were looking for something of node label `:Entity`, which is a bad assumption on its part.  It also was only looking for nodes within 2 hops, which again might not be the best assumption.\n",
    "\n",
    "Let's try again..."
   ]
  },
  {
   "cell_type": "code",
   "execution_count": 19,
   "id": "1345287e-834a-4b11-ae38-eb1481decf33",
   "metadata": {},
   "outputs": [
    {
     "name": "stdout",
     "output_type": "stream",
     "text": [
      "\n",
      "\n",
      "\u001b[1m> Entering new GraphCypherQAChain chain...\u001b[0m\n",
      "Generated Cypher:\n",
      "\u001b[32;1m\u001b[1;3mcypher\n",
      "MATCH (e:Entity {name: \"MGM Grand Hotel\"})\n",
      "OPTIONAL MATCH (e)-[:RELATED_TO|RESOLVES]-(related)\n",
      "RETURN e, collect(related) AS related_entities\n",
      "\u001b[0m\n",
      "Full Context:\n",
      "\u001b[32;1m\u001b[1;3m[{'e': {'uid': 'SAFEGRAPH.222-22x@5yv-j8h-cyv', 'name': 'MGM Grand Hotel', 'data_source': 'SAFEGRAPH'}, 'related_entities': [{'naics_code': '722511', 'uid': 'SAFEGRAPH.zzy-223@5yv-j8h-ct9', 'record_id': 'zzy-223@5yv-j8h-ct9', 'brands': '[]', 'address': '3799 Las Vegas Blvd S Las Vegas NV 89109-4319', 'sub_category': 'Full-Service Restaurants', 'mailing_verified_status': 'VERIFIED_DELIVERY_POINT', 'name': 'Pan Asian Express', 'category_tags': '[ \"Asian Food\", \"Brunch\" ]', 'top_category': 'Restaurants and Other Eating Places', 'record_type': 'ORGANIZATION', 'data_source': 'SAFEGRAPH'}, {'naics_code': '722511', 'uid': 'SAFEGRAPH.222-22r@5yv-j8h-cyv', 'record_id': '222-22r@5yv-j8h-cyv', 'brands': '[]', 'address': '3799 Las Vegas Blvd S Las Vegas NV 89109-4319', 'sub_category': 'Full-Service Restaurants', 'mailing_verified_status': 'VERIFIED_DELIVERY_POINT', 'name': 'Hecho en Vegas', 'category_tags': '[ \"Mexican Food\" ]', 'top_category': 'Restaurants and Other Eating Places', 'data_source': 'SAFEGRAPH', 'record_type': 'ORGANIZATION'}, {'naics_code': '722511', 'uid': 'SAFEGRAPH.zzw-222@5yv-j8h-cnq', 'record_id': 'zzw-222@5yv-j8h-cnq', 'brands': '[]', 'address': '3799 Las Vegas Blvd S Las Vegas NV 89109-4319', 'sub_category': 'Full-Service Restaurants', 'mailing_verified_status': 'VERIFIED_DELIVERY_POINT', 'name': 'Fiamma Italian Kitchen', 'category_tags': '[ \"Bar or Pub\", \"Cocktail Lounge\", \"Italian Food\", \"Late Night\", \"Wine Bar\" ]', 'top_category': 'Restaurants and Other Eating Places', 'record_type': 'ORGANIZATION', 'data_source': 'SAFEGRAPH'}, {'naics_code': '713210', 'uid': 'SAFEGRAPH.222-22p@5yv-j8h-cyv', 'record_id': '222-22p@5yv-j8h-cyv', 'brands': '[]', 'address': '3799 Las Vegas Blvd S Las Vegas NV 89109-4319', 'sub_category': 'Casinos (except Casino Hotels)', 'mailing_verified_status': 'VERIFIED_DELIVERY_POINT', 'name': 'MGM Grand Poker Room', 'category_tags': '[]', 'top_category': 'Gambling Industries', 'record_type': 'ORGANIZATION', 'data_source': 'SAFEGRAPH'}, {'naics_code': '722513', 'uid': 'SAFEGRAPH.zzw-227@5yv-j8h-d5f', 'record_id': 'zzw-227@5yv-j8h-d5f', 'brands': '[ { \"safegraph_brand_id\": \"SG_BRAND_f372f9969f6e1ae119a13ff4fc78fd2d\", \"safegraph_brand_name\": \"Pieology Pizzeria\" } ]', 'address': '3799 Las Vegas Blvd S Las Vegas NV 89109-4319', 'sub_category': 'Limited-Service Restaurants', 'mailing_verified_status': 'VERIFIED_DELIVERY_POINT', 'name': 'Pieology Pizzeria', 'category_tags': '[ \"Counter Service\", \"Dinner\", \"Fast Food\", \"Lunch\", \"Pizza\" ]', 'top_category': 'Restaurants and Other Eating Places', 'record_type': 'ORGANIZATION', 'data_source': 'SAFEGRAPH'}, {'naics_code': '722513', 'uid': 'SAFEGRAPH.222-24v@5yv-j8h-cyv', 'record_id': '222-24v@5yv-j8h-cyv', 'brands': '[]', 'address': '3799 Las Vegas Blvd S Las Vegas NV 89109-4319', 'sub_category': 'Limited-Service Restaurants', 'mailing_verified_status': 'VERIFIED_DELIVERY_POINT', 'category_tags': '[ \"Burgers\" ]', 'name': \"McDonald's MGM Grand The District Food Court\", 'top_category': 'Restaurants and Other Eating Places', 'record_type': 'ORGANIZATION', 'data_source': 'SAFEGRAPH'}, {'naics_code': '7225', 'uid': 'SAFEGRAPH.222-262@5yv-j8h-cyv', 'record_id': '222-262@5yv-j8h-cyv', 'brands': '[]', 'address': '3799 Las Vegas Blvd S Las Vegas NV 89109-4319', 'sub_category': 'Not Provided', 'mailing_verified_status': 'VERIFIED_DELIVERY_POINT', 'name': 'Mgm Grd Mansion Din Rm', 'category_tags': '[]', 'top_category': 'Restaurants and Other Eating Places', 'data_source': 'SAFEGRAPH', 'record_type': 'ORGANIZATION'}, {'naics_code': '722511', 'uid': 'SAFEGRAPH.222-24r@5yv-j8h-cyv', 'record_id': '222-24r@5yv-j8h-cyv', 'brands': '[]', 'address': '3799 Las Vegas Blvd S Las Vegas NV 89109-4319', 'sub_category': 'Full-Service Restaurants', 'mailing_verified_status': 'VERIFIED_DELIVERY_POINT', 'name': 'Mansion Dining Room', 'category_tags': '[ \"American Food\", \"Fine Dining\" ]', 'top_category': 'Restaurants and Other Eating Places', 'record_type': 'ORGANIZATION', 'data_source': 'SAFEGRAPH'}, {'naics_code': '722511', 'uid': 'SAFEGRAPH.222-224@5yv-j8h-cyv', 'record_id': '222-224@5yv-j8h-cyv', 'brands': '[]', 'address': '3799 Las Vegas Blvd S Las Vegas NV 89109-4319', 'sub_category': 'Full-Service Restaurants', 'mailing_verified_status': 'VERIFIED_DELIVERY_POINT', 'name': 'Morimoto', 'category_tags': '[ \"Bar or Pub\", \"Fine Dining\", \"Japanese Food\", \"Late Night\", \"Sushi\" ]', 'top_category': 'Restaurants and Other Eating Places', 'data_source': 'SAFEGRAPH', 'record_type': 'ORGANIZATION'}, {'naics_code': '722511', 'uid': 'SAFEGRAPH.zzw-223@5yv-j8h-d35', 'record_id': 'zzw-223@5yv-j8h-d35', 'brands': '[]', 'address': '3799 Las Vegas Blvd S Las Vegas NV 89109-4319', 'sub_category': 'Full-Service Restaurants', 'mailing_verified_status': 'VERIFIED_DELIVERY_POINT', 'name': \"L'Atelier de Joel Robuchon\", 'category_tags': '[ \"Fine Dining\", \"French Food\" ]', 'top_category': 'Restaurants and Other Eating Places', 'record_type': 'ORGANIZATION', 'data_source': 'SAFEGRAPH'}, {'naics_code': '722513', 'uid': 'SAFEGRAPH.zzw-222@5yv-j89-z75', 'record_id': 'zzw-222@5yv-j89-z75', 'brands': '[]', 'address': '3799 Las Vegas Blvd S Las Vegas NV 89109-4319', 'sub_category': 'Limited-Service Restaurants', 'mailing_verified_status': 'VERIFIED_DELIVERY_POINT', 'name': 'Cabana Grill', 'category_tags': '[ \"American Food\", \"Cafe\", \"Sandwich Shop\" ]', 'top_category': 'Restaurants and Other Eating Places', 'data_source': 'SAFEGRAPH', 'record_type': 'ORGANIZATION'}, {'naics_code': '721120', 'uid': 'SAFEGRAPH.222-25g@5yv-j8h-cyv', 'record_id': '222-25g@5yv-j8h-cyv', 'brands': '[ { \"safegraph_brand_id\": \"SG_BRAND_51ea13820ab33db608fdc6af3f8186e4\", \"safegraph_brand_name\": \"MGM Resorts\" } ]', 'address': '3799 Las Vegas Blvd S Las Vegas NV 89109-4319', 'sub_category': 'Casino Hotels', 'mailing_verified_status': 'VERIFIED_DELIVERY_POINT', 'name': 'Hotels In Las Vegas Vegas Hotels Resort Hotels Mgm Grand Las Vegas', 'category_tags': '[ \"Bar or Pub\", \"Beaches\", \"Brunch\", \"Golf\", \"Breakfast\" ]', 'top_category': 'Traveler Accommodation', 'record_type': 'ORGANIZATION', 'data_source': 'SAFEGRAPH'}, {'naics_code': '722511', 'uid': 'SAFEGRAPH.zzw-224@5yv-j8h-d5f', 'record_id': 'zzw-224@5yv-j8h-d5f', 'brands': '[]', 'address': '3799 Las Vegas Blvd S Las Vegas NV 89109-4319', 'sub_category': 'Full-Service Restaurants', 'mailing_verified_status': 'VERIFIED_DELIVERY_POINT', 'name': \"Emeril's New Orleans Fish House\", 'category_tags': '[ \"American Food\", \"Bar or Pub\", \"Late Night\", \"Seafood\" ]', 'top_category': 'Restaurants and Other Eating Places', 'record_type': 'ORGANIZATION', 'data_source': 'SAFEGRAPH'}, {'naics_code': '4539', 'uid': 'SAFEGRAPH.222-25v@5yv-j8h-cyv', 'record_id': '222-25v@5yv-j8h-cyv', 'brands': '[]', 'address': '3799 Las Vegas Blvd S Las Vegas NV 89109-4319', 'sub_category': 'Not Provided', 'mailing_verified_status': 'VERIFIED_DELIVERY_POINT', 'name': 'Mgm Grand Express Store', 'category_tags': '[]', 'top_category': 'Other Miscellaneous Store Retailers', 'data_source': 'SAFEGRAPH', 'record_type': 'ORGANIZATION'}, {'naics_code': '722511', 'uid': 'SAFEGRAPH.222-22m@5yv-j8h-cyv', 'record_id': '222-22m@5yv-j8h-cyv', 'brands': '[ { \"safegraph_brand_id\": \"SG_BRAND_a4fa429c1ee373170a93767a515b910d\", \"safegraph_brand_name\": \"Wolfgang Puck\" } ]', 'address': '3799 Las Vegas Blvd S Las Vegas NV 89109-4319', 'sub_category': 'Full-Service Restaurants', 'mailing_verified_status': 'VERIFIED_DELIVERY_POINT', 'name': 'Wolfgang Puck Bar & Grill Las Vegas', 'category_tags': '[ \"American Food\", \"Bar or Pub\", \"Casual Dining\", \"Catering\", \"Dinner\", \"Drinks\", \"Lunch\", \"Pizza\" ]', 'top_category': 'Restaurants and Other Eating Places', 'record_type': 'ORGANIZATION', 'data_source': 'SAFEGRAPH'}, {'naics_code_description': 'Casino Hotels', 'naics_code': 721120, 'uid': 'DOL_WHISARD.55712', 'record_id': 55712, 'case_violtn_cnt': 1, 'address': '3799 S Las Vegas Blvd Las Vegas NV 89109', 'legal_name_org': 'MGM Grand Hotel LLC', 'case_id': 1726755, 'name': 'MGM Grand', 'record_type': 'ORGANIZATION', 'data_source': 'DoL_WHISARD'}, {'naics_code_description': 'Casino Hotels', 'naics_code': 72112, 'uid': 'DOL_WHISARD.100964', 'record_id': 100964, 'address': '3799 Las Vegas Blvd., South Las Vegas NV 89109', 'case_violtn_cnt': 1, 'legal_name_org': 'MGM Grand Hotel, LLC', 'case_id': 1437731, 'name': 'MGM', 'record_type': 'ORGANIZATION', 'data_source': 'DoL_WHISARD'}, {'naics_code_description': 'Casino Hotels', 'naics_code': 72112, 'uid': 'DOL_WHISARD.97890', 'record_id': 97890, 'case_violtn_cnt': 0, 'address': '3799 Las Vegas Blvd South Las Vegas NV 89109', 'legal_name_org': 'MGM Grand Hotel, LLC', 'case_id': 1665815, 'name': 'MGM Grand', 'record_type': 'ORGANIZATION', 'data_source': 'DoL_WHISARD'}, {'naics_code_description': 'Casino Hotels', 'naics_code': 721120, 'uid': 'DOL_WHISARD.121649', 'record_id': 121649, 'case_violtn_cnt': 0, 'address': '3799 Las Vegas Blvd., South Las Vegas NV 89177', 'case_id': 1489082, 'legal_name_org': 'MGM Grand Hotel & Casino,LLC.', 'name': 'MGM Grand', 'record_type': 'ORGANIZATION', 'data_source': 'DoL_WHISARD'}, {'naics_code_description': 'Casino Hotels', 'naics_code': 721120, 'uid': 'DOL_WHISARD.70332', 'record_id': 70332, 'case_violtn_cnt': 0, 'address': '3799 Las Vegas Blvd South Las Vegas NV 89109', 'case_id': 1799398, 'legal_name_org': 'MGM Grand Hotel LLC.', 'name': 'MGM Grand Hotel and Casino', 'data_source': 'DoL_WHISARD', 'record_type': 'ORGANIZATION'}, {'naics_code_description': 'Casino Hotels', 'naics_code': 721120, 'uid': 'DOL_WHISARD.253034', 'record_id': 253034, 'case_violtn_cnt': 16468, 'address': '3799 South Las Vegas Blvd. Las Vegas NV 89109', 'case_id': 1752628, 'legal_name_org': 'MGM Grand Hotel, LLC', 'name': 'MGM Grand Hotel & Casino', 'data_source': 'DoL_WHISARD', 'record_type': 'ORGANIZATION'}, {'naics_code_description': 'Casino Hotels', 'naics_code': 72112, 'uid': 'DOL_WHISARD.75571', 'record_id': 75571, 'case_violtn_cnt': 1, 'address': '3799 Las Vegas Blvd South Las Vegas NV 89109', 'legal_name_org': 'MGM Grand Hotel and Casino', 'case_id': 1637673, 'name': 'MGM Grand', 'record_type': 'ORGANIZATION', 'data_source': 'DoL_WHISARD'}, {'naics_code_description': 'Casino Hotels', 'naics_code': 721120, 'uid': 'DOL_WHISARD.224346', 'record_id': 224346, 'case_violtn_cnt': 0, 'address': '3799 Las Vegas Blvd. S. Las Vegas NV 89109', 'case_id': 1401589, 'legal_name_org': 'MGM Grand L.L.C.', 'name': 'MGM Grand Hotel & Casino', 'data_source': 'DoL_WHISARD', 'record_type': 'ORGANIZATION'}]}]\u001b[0m\n",
      "\n",
      "\u001b[1m> Finished chain.\u001b[0m\n"
     ]
    },
    {
     "data": {
      "text/plain": [
       "{'query': 'Tell me about MGM Grand Hotel',\n",
       " 'result': \"The MGM Grand Hotel, located at 3799 Las Vegas Blvd S, Las Vegas, NV 89109-4319, is a prominent establishment. It is categorized under Casino Hotels and has several related entities, including various full-service and limited-service restaurants such as Pan Asian Express, Hecho en Vegas, Fiamma Italian Kitchen, Pieology Pizzeria, and McDonald's MGM Grand The District Food Court. Additionally, it features the MGM Grand Poker Room and the MGM Grand Express Store. The hotel is associated with multiple legal names and has been involved in various cases, as recorded by DoL_WHISARD.\"}"
      ]
     },
     "execution_count": 19,
     "metadata": {},
     "output_type": "execute_result"
    }
   ],
   "source": [
    "response = chain.invoke({\"query\": \"Tell me about MGM Grand Hotel\"})\n",
    "response"
   ]
  },
  {
   "cell_type": "markdown",
   "id": "20222b11-30b5-4565-b0b4-27ea312e06d7",
   "metadata": {},
   "source": [
    "### Much better!\n",
    "\n",
    "Again, the LLM really prefers to only search for the `:Entity` node label, which is unfortunate.  But I like that it came back with a lot more related nodes, like Pan Asian Express and Pieology Pizzeria, which are restaurants within MGM Grand.  Unfortunately, it was not able to probe much deeper:"
   ]
  },
  {
   "cell_type": "code",
   "execution_count": 21,
   "id": "bdbb8093-1b31-43b7-a500-eb6e97cf678b",
   "metadata": {},
   "outputs": [
    {
     "name": "stdout",
     "output_type": "stream",
     "text": [
      "\n",
      "\n",
      "\u001b[1m> Entering new GraphCypherQAChain chain...\u001b[0m\n",
      "Generated Cypher:\n",
      "\u001b[32;1m\u001b[1;3mcypher\n",
      "MATCH (e:Entity {name: \"Fiamma Italian Kitchen\"})-[:RELATED_TO*1..2]-(d:DOLEntity)\n",
      "RETURN SUM(d.case_violtn_cnt) AS total_violations\n",
      "\u001b[0m\n",
      "Full Context:\n",
      "\u001b[32;1m\u001b[1;3m[{'total_violations': 0}]\u001b[0m\n",
      "\n",
      "\u001b[1m> Finished chain.\u001b[0m\n"
     ]
    },
    {
     "data": {
      "text/plain": [
       "{'query': 'How many violations have entities Fiamma Italian Kitchen is related to been involved in?',\n",
       " 'result': 'Entities related to Fiamma Italian Kitchen have been involved in 0 violations.'}"
      ]
     },
     "execution_count": 21,
     "metadata": {},
     "output_type": "execute_result"
    }
   ],
   "source": [
    "response = chain.invoke({\"query\": \"How many violations have entities Fiamma Italian Kitchen is related to been involved in?\"})\n",
    "response"
   ]
  },
  {
   "cell_type": "code",
   "execution_count": null,
   "id": "88834367-9d51-4f1f-8590-989d8e37df8a",
   "metadata": {},
   "outputs": [],
   "source": []
  }
 ],
 "metadata": {
  "kernelspec": {
   "display_name": "Python 3 (ipykernel)",
   "language": "python",
   "name": "python3"
  },
  "language_info": {
   "codemirror_mode": {
    "name": "ipython",
    "version": 3
   },
   "file_extension": ".py",
   "mimetype": "text/x-python",
   "name": "python",
   "nbconvert_exporter": "python",
   "pygments_lexer": "ipython3",
   "version": "3.10.12"
  }
 },
 "nbformat": 4,
 "nbformat_minor": 5
}
