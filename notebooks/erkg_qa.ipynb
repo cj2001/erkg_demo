{
 "cells": [
  {
   "cell_type": "code",
   "execution_count": 1,
   "id": "4e60c7d0-2a86-42a3-8ac4-9d75fe2c12c4",
   "metadata": {},
   "outputs": [],
   "source": [
    "import json\n",
    "from neo4j import GraphDatabase\n",
    "import numpy as np\n",
    "import os\n",
    "import pandas as pd\n",
    "from pprint import pprint\n",
    "import time\n",
    "from tqdm import tqdm\n",
    "\n",
    "from langchain_openai import ChatOpenAI\n",
    "from langchain_community.graphs import Neo4jGraph\n",
    "from langchain.chains import GraphCypherQAChain\n",
    "\n",
    "pd.set_option('display.max_columns', None)\n",
    "pd.set_option('display.max_rows', 1000)"
   ]
  },
  {
   "cell_type": "markdown",
   "id": "450de4c3-87ee-46a7-80c6-227af78b764f",
   "metadata": {},
   "source": [
    "## Introduction\n",
    "\n",
    "In order to run this notebook you need to have the full tabular data set along with the Senzing entity-resolved data set loaded into Neo4j, which is achieved in the `load_json_data.ipynb` and `load_senzing_data.ipynb` notebooks.  We will then use LangChain to create a Cypher QA chain to ask questions of this graph, much like we did in `sql_qa.ipynb` with the tabular data."
   ]
  },
  {
   "cell_type": "code",
   "execution_count": 2,
   "id": "9019123d-bbb6-4e6e-800e-9f6d8c5f9ca6",
   "metadata": {},
   "outputs": [],
   "source": [
    "URI = \"bolt://localhost:7687\"\n",
    "USER = \"neo4j\"\n",
    "PWD = \" \"\n",
    "AUTH = (USER, PWD)\n",
    "\n",
    "os.environ[\"NEO4J_URI\"] = URI\n",
    "os.environ[\"NEO4J_USERNAME\"] = USER\n",
    "os.environ[\"NEO4J_PASSWORD\"] = PWD"
   ]
  },
  {
   "cell_type": "markdown",
   "id": "5dcd47cd-daec-49e6-b8d8-b3b0ed3244a1",
   "metadata": {},
   "source": [
    "### Connecting LangChain to Neo4j..."
   ]
  },
  {
   "cell_type": "code",
   "execution_count": 3,
   "id": "1cde9a8b-b47b-438b-84b1-b21c11b9d620",
   "metadata": {},
   "outputs": [],
   "source": [
    "graph = Neo4jGraph()"
   ]
  },
  {
   "cell_type": "code",
   "execution_count": 4,
   "id": "c63622dd-32e5-48b6-b7b8-8d388b758bc3",
   "metadata": {},
   "outputs": [
    {
     "data": {
      "text/plain": [
       "[{'COUNT(n)': 86374}]"
      ]
     },
     "execution_count": 4,
     "metadata": {},
     "output_type": "execute_result"
    }
   ],
   "source": [
    "graph.query(\"\"\"MATCH (n) RETURN COUNT(n)\"\"\")"
   ]
  },
  {
   "cell_type": "code",
   "execution_count": 5,
   "id": "f75b33ab-a9ba-4911-a4bb-73f90a8a04b4",
   "metadata": {},
   "outputs": [
    {
     "name": "stdout",
     "output_type": "stream",
     "text": [
      "Node properties:\n",
      "SGEntity {data_source: STRING, top_category: STRING, name: STRING, record_type: STRING, mailing_verified_status: STRING, category_tags: STRING, naics_code: STRING, brands: STRING, address: STRING, sub_category: STRING, uid: STRING, record_id: STRING, tracking_closed_since: STRING, closed_on: STRING}\n",
      "PPPEntity {date_approved: STRING, loan_range: STRING, data_source: STRING, business_type: STRING, jobs_reported: INTEGER, name: STRING, lender: STRING, naics_code: INTEGER, address: STRING, record_type: STRING, uid: STRING, record_id: INTEGER}\n",
      "DOLEntity {case_id: INTEGER, naics_code_description: STRING, legal_name_org: STRING, record_type: STRING, data_source: STRING, naics_code: INTEGER, address: STRING, name: STRING, case_violtn_cnt: INTEGER, uid: STRING, record_id: INTEGER}\n",
      "Entity {data_source: STRING, uid: STRING, name: STRING}\n",
      "Relationship properties:\n",
      "RELATED_TO {match_key: STRING, is_ambiguous: INTEGER, match_level_code: STRING, match_level: INTEGER, is_disclosed: INTEGER}\n",
      "The relationships:\n",
      "(:SGEntity)-[:RELATED_TO]->(:Entity)\n",
      "(:SGEntity)-[:RESOLVES]->(:PPPEntity)\n",
      "(:SGEntity)-[:RESOLVES]->(:DOLEntity)\n",
      "(:PPPEntity)-[:RELATED_TO]->(:Entity)\n",
      "(:PPPEntity)-[:RESOLVES]->(:SGEntity)\n",
      "(:PPPEntity)-[:RESOLVES]->(:PPPEntity)\n",
      "(:DOLEntity)-[:RESOLVES]->(:PPPEntity)\n",
      "(:DOLEntity)-[:RESOLVES]->(:SGEntity)\n",
      "(:DOLEntity)-[:RESOLVES]->(:DOLEntity)\n",
      "(:DOLEntity)-[:RELATED_TO]->(:Entity)\n",
      "(:Entity)-[:RESOLVES]->(:PPPEntity)\n",
      "(:Entity)-[:RESOLVES]->(:DOLEntity)\n",
      "(:Entity)-[:RESOLVES]->(:SGEntity)\n"
     ]
    }
   ],
   "source": [
    "graph.refresh_schema()\n",
    "print(graph.schema)"
   ]
  },
  {
   "cell_type": "markdown",
   "id": "f25ffbba-0e02-4c89-abed-abf54f81f3c9",
   "metadata": {},
   "source": [
    "## Creating a chain\n",
    "\n",
    "We use the LangChain package `GraphCypherQAChain` to convert questions into Cypher queries that are passed to the database for generating answers."
   ]
  },
  {
   "cell_type": "code",
   "execution_count": 6,
   "id": "7ead5a35-6a60-4c57-b2d6-aea3feadb326",
   "metadata": {},
   "outputs": [],
   "source": [
    "llm = ChatOpenAI(model=\"gpt-4o-2024-05-13\", temperature=0)\n",
    "\n",
    "chain = GraphCypherQAChain.from_llm(graph=graph, \n",
    "                                    llm=llm,\n",
    "                                    validate_cypher=True,\n",
    "                                    verbose=True)"
   ]
  },
  {
   "cell_type": "code",
   "execution_count": 9,
   "id": "74f0f65a-624e-4879-9eda-e93817c08a30",
   "metadata": {},
   "outputs": [
    {
     "name": "stdout",
     "output_type": "stream",
     "text": [
      "\n",
      "\n",
      "\u001b[1m> Entering new GraphCypherQAChain chain...\u001b[0m\n",
      "Generated Cypher:\n",
      "\u001b[32;1m\u001b[1;3mcypher\n",
      "MATCH (e:Entity {name: \"Union Cab Co\"})-[:RELATED_TO|RESOLVES*1..2]-(related)\n",
      "RETURN e, related\n",
      "\u001b[0m\n",
      "Full Context:\n",
      "\u001b[32;1m\u001b[1;3m[{'e': {'uid': 'DOL_WHISARD.109039', 'name': 'Union Cab Co', 'data_source': 'DOL_WHISARD'}, 'related': {'naics_code': '485310', 'brands': '[]', 'address': '5010 S Valley View Blvd Las Vegas NV 89118-1705', 'sub_category': 'Taxi Service', 'category_tags': '[ \"Airport Shuttles\", \"Taxis\" ]', 'data_source': 'SAFEGRAPH', 'record_type': 'ORGANIZATION', 'uid': 'SAFEGRAPH.222-224@5yv-j8k-djv', 'record_id': '222-224@5yv-j8k-djv', 'tracking_closed_since': '2019-07-01', 'mailing_verified_status': 'VERIFIED_DELIVERY_POINT', 'closed_on': '2022-03-01', 'name': 'ABC Union Cab Co', 'top_category': 'Taxi and Limousine Service'}}, {'e': {'uid': 'DOL_WHISARD.109039', 'name': 'Union Cab Co', 'data_source': 'DOL_WHISARD'}, 'related': {'naics_code_description': 'Taxi Service', 'naics_code': 485310, 'uid': 'DOL_WHISARD.109039', 'record_id': 109039, 'case_violtn_cnt': 1, 'address': '5010 S. Valley View Blvd Las Vegas NV 89118', 'legal_name_org': 'Union Cab Co', 'case_id': 1691109, 'name': 'Union Cab', 'record_type': 'ORGANIZATION', 'data_source': 'DoL_WHISARD'}}, {'e': {'uid': 'DOL_WHISARD.109039', 'name': 'Union Cab Co', 'data_source': 'DOL_WHISARD'}, 'related': {'uid': 'DOL_WHISARD.59221', 'name': 'Vegas Western Cab, Inc', 'data_source': 'DOL_WHISARD'}}, {'e': {'uid': 'DOL_WHISARD.109039', 'name': 'Union Cab Co', 'data_source': 'DOL_WHISARD'}, 'related': {'uid': 'DOL_WHISARD.171452', 'name': 'A NLV Cab Co.', 'data_source': 'DOL_WHISARD'}}, {'e': {'uid': 'DOL_WHISARD.109039', 'name': 'Union Cab Co', 'data_source': 'DOL_WHISARD'}, 'related': {'naics_code': '485310', 'brands': '[]', 'address': '5010 S Valley View Blvd Las Vegas NV 89118-1705', 'sub_category': 'Taxi Service', 'category_tags': '[ \"Airport Shuttles\", \"Taxis\" ]', 'data_source': 'SAFEGRAPH', 'record_type': 'ORGANIZATION', 'uid': 'SAFEGRAPH.222-223@5yv-j8k-djv', 'record_id': '222-223@5yv-j8k-djv', 'tracking_closed_since': '2019-07-01', 'mailing_verified_status': 'VERIFIED_DELIVERY_POINT', 'closed_on': '2020-07-01', 'name': 'ANLV Cab Company', 'top_category': 'Taxi and Limousine Service'}}, {'e': {'uid': 'DOL_WHISARD.109039', 'name': 'Union Cab Co', 'data_source': 'DOL_WHISARD'}, 'related': {'uid': 'DOL_WHISARD.171452', 'name': 'A NLV Cab Co.', 'data_source': 'DOL_WHISARD'}}, {'e': {'uid': 'DOL_WHISARD.109039', 'name': 'Union Cab Co', 'data_source': 'DOL_WHISARD'}, 'related': {'naics_code_description': 'Taxi Service', 'naics_code': 485310, 'uid': 'DOL_WHISARD.171452', 'record_id': 171452, 'case_violtn_cnt': 1, 'address': '5010 S. Valley View Blvd. Las Vegas NV 89118', 'legal_name_org': 'A NLV Cab Co.', 'case_id': 1691110, 'name': 'A NLV Cab', 'record_type': 'ORGANIZATION', 'data_source': 'DoL_WHISARD'}}, {'e': {'uid': 'DOL_WHISARD.109039', 'name': 'Union Cab Co', 'data_source': 'DOL_WHISARD'}, 'related': {'uid': 'DOL_WHISARD.59221', 'name': 'Vegas Western Cab, Inc', 'data_source': 'DOL_WHISARD'}}, {'e': {'uid': 'DOL_WHISARD.109039', 'name': 'Union Cab Co', 'data_source': 'DOL_WHISARD'}, 'related': {'naics_code': '485310', 'brands': '[]', 'address': '5010 S Valley View Blvd Las Vegas NV 89118-1705', 'sub_category': 'Taxi Service', 'category_tags': '[ \"Limos\", \"Taxis\" ]', 'data_source': 'SAFEGRAPH', 'record_type': 'ORGANIZATION', 'uid': 'SAFEGRAPH.222-222@5yv-j8k-djv', 'record_id': '222-222@5yv-j8k-djv', 'tracking_closed_since': '2019-07-01', 'mailing_verified_status': 'VERIFIED_DELIVERY_POINT', 'closed_on': '2022-02-01', 'name': 'Vegas Western Cab Company', 'top_category': 'Taxi and Limousine Service'}}, {'e': {'uid': 'DOL_WHISARD.109039', 'name': 'Union Cab Co', 'data_source': 'DOL_WHISARD'}, 'related': {'naics_code_description': 'Taxi Service', 'naics_code': 485310, 'uid': 'DOL_WHISARD.59221', 'record_id': 59221, 'case_violtn_cnt': 1, 'address': '5010 S. Vallley View Blvd. Las Vegas NV 89118', 'legal_name_org': 'Vegas Western Cab, Inc', 'case_id': 1691112, 'name': 'Vegas Western Cab', 'data_source': 'DoL_WHISARD', 'record_type': 'ORGANIZATION'}}]\u001b[0m\n",
      "\n",
      "\u001b[1m> Finished chain.\u001b[0m\n"
     ]
    },
    {
     "data": {
      "text/plain": [
       "{'query': 'Tell me about Union Cab Co',\n",
       " 'result': 'Union Cab Co, also known as ABC Union Cab Co, was located at 5010 S Valley View Blvd, Las Vegas, NV 89118-1705. It operated in the Taxi Service industry, specifically under the NAICS code 485310. The company was categorized under \"Taxi and Limousine Service\" and had tags such as \"Airport Shuttles\" and \"Taxis.\" Union Cab Co had a verified mailing status and was tracked as closed since July 1, 2019, with its official closure on March 1, 2022. The company had one recorded case violation and was related to other entities like Vegas Western Cab, Inc and A NLV Cab Co.'}"
      ]
     },
     "execution_count": 9,
     "metadata": {},
     "output_type": "execute_result"
    }
   ],
   "source": [
    "response = chain.invoke({\"query\": \"Tell me about Union Cab Co\"})\n",
    "response"
   ]
  },
  {
   "cell_type": "markdown",
   "id": "20222b11-30b5-4565-b0b4-27ea312e06d7",
   "metadata": {},
   "source": [
    "### Interesting!\n",
    "\n",
    "Again, the LLM really prefers to only search for the `:Entity` node label, which is unfortunate.  But I like that it came back with a lot more related nodes, like Las Vegas Western Cab and A NLV Cab Co., which are cab companies located at the same address."
   ]
  },
  {
   "cell_type": "code",
   "execution_count": 11,
   "id": "bdbb8093-1b31-43b7-a500-eb6e97cf678b",
   "metadata": {},
   "outputs": [
    {
     "name": "stdout",
     "output_type": "stream",
     "text": [
      "\n",
      "\n",
      "\u001b[1m> Entering new GraphCypherQAChain chain...\u001b[0m\n",
      "Generated Cypher:\n",
      "\u001b[32;1m\u001b[1;3mcypher\n",
      "MATCH (e:Entity {name: \"Union Cab Co\"})-[:RELATED_TO]-(d:DOLEntity)\n",
      "RETURN SUM(d.case_violtn_cnt) AS total_violations\n",
      "\u001b[0m\n",
      "Full Context:\n",
      "\u001b[32;1m\u001b[1;3m[{'total_violations': 6}]\u001b[0m\n",
      "\n",
      "\u001b[1m> Finished chain.\u001b[0m\n"
     ]
    },
    {
     "data": {
      "text/plain": [
       "{'query': 'How many violations have entities Union Cab Co is related to been involved in?',\n",
       " 'result': 'Entities related to Union Cab Co have been involved in a total of 6 violations.'}"
      ]
     },
     "execution_count": 11,
     "metadata": {},
     "output_type": "execute_result"
    }
   ],
   "source": [
    "response = chain.invoke({\"query\": \"How many violations have entities Union Cab Co is related to been involved in?\"})\n",
    "response"
   ]
  },
  {
   "cell_type": "markdown",
   "id": "aceceab9-91d0-4150-9278-b28053752ac0",
   "metadata": {},
   "source": [
    "## This is the correct answer!\n",
    "\n",
    "(Although to be fair, I received different answers every time I ran this code.)"
   ]
  },
  {
   "cell_type": "code",
   "execution_count": null,
   "id": "6a9b9282-6654-42e4-8905-ff5fe4fb2cd0",
   "metadata": {},
   "outputs": [],
   "source": []
  }
 ],
 "metadata": {
  "kernelspec": {
   "display_name": "Python 3 (ipykernel)",
   "language": "python",
   "name": "python3"
  },
  "language_info": {
   "codemirror_mode": {
    "name": "ipython",
    "version": 3
   },
   "file_extension": ".py",
   "mimetype": "text/x-python",
   "name": "python",
   "nbconvert_exporter": "python",
   "pygments_lexer": "ipython3",
   "version": "3.10.12"
  }
 },
 "nbformat": 4,
 "nbformat_minor": 5
}
